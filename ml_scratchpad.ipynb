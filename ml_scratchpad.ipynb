{
  "nbformat": 4,
  "nbformat_minor": 0,
  "metadata": {
    "colab": {
      "name": "ml_scratchpad.ipynb",
      "version": "0.3.2",
      "provenance": [],
      "collapsed_sections": [],
      "include_colab_link": true
    },
    "kernelspec": {
      "name": "python3",
      "display_name": "Python 3"
    }
  },
  "cells": [
    {
      "cell_type": "markdown",
      "metadata": {
        "id": "view-in-github",
        "colab_type": "text"
      },
      "source": [
        "<a href=\"https://colab.research.google.com/github/weidongshao/ml_playground/blob/master/ml_scratchpad.ipynb\" target=\"_parent\"><img src=\"https://colab.research.google.com/assets/colab-badge.svg\" alt=\"Open In Colab\"/></a>"
      ]
    },
    {
      "metadata": {
        "id": "y4BvhwGuIwfD",
        "colab_type": "text"
      },
      "cell_type": "markdown",
      "source": [
        "# Skeleton Code for colab with Google Drive workspace\n",
        "\n",
        "Assume that your GDrive has a top level folder named \"App\". Put your data files under that folder. "
      ]
    },
    {
      "metadata": {
        "id": "a4ZyqtEbMjbB",
        "colab_type": "text"
      },
      "cell_type": "markdown",
      "source": [
        "\n",
        "If you want to display math equations in your notes\n",
        "$$ a^2 + b^2 = c^2 $$"
      ]
    },
    {
      "metadata": {
        "id": "8if0BHeFI1Rx",
        "colab_type": "code",
        "colab": {}
      },
      "cell_type": "code",
      "source": [
        "from google.colab import drive\n",
        "drive.mount('/content/gdrive')\n",
        "\n",
        "%matplotlib inline\n",
        "import matplotlib.pyplot as plt\n",
        "plt.style.use('seaborn-whitegrid')\n",
        "\n",
        "import numpy as np\n",
        "import pandas as pd\n",
        "\n",
        "data_file = 'training.tsv'\n",
        "\n",
        "data = pd.read_csv('/content/gdrive/My Drive/App/' + data_file, sep=\"\\t\")\n",
        "\n",
        "# data.head()"
      ],
      "execution_count": 0,
      "outputs": []
    }
  ]
}