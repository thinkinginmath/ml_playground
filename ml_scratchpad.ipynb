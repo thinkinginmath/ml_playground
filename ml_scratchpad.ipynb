{
  "nbformat": 4,
  "nbformat_minor": 0,
  "metadata": {
    "colab": {
      "name": "ml_scratchpad.ipynb",
      "version": "0.3.2",
      "provenance": [],
      "collapsed_sections": [],
      "include_colab_link": true
    },
    "kernelspec": {
      "name": "python3",
      "display_name": "Python 3"
    }
  },
  "cells": [
    {
      "cell_type": "markdown",
      "metadata": {
        "id": "view-in-github",
        "colab_type": "text"
      },
      "source": [
        "<a href=\"https://colab.research.google.com/github/weidongshao/ml_playground/blob/master/ml_scratchpad.ipynb\" target=\"_parent\"><img src=\"https://colab.research.google.com/assets/colab-badge.svg\" alt=\"Open In Colab\"/></a>"
      ]
    },
    {
      "metadata": {
        "id": "y4BvhwGuIwfD",
        "colab_type": "text"
      },
      "cell_type": "markdown",
      "source": [
        "# Skeleton Code for colab with Google Drive workspace\n",
        "\n",
        "Assume that your GDrive has a top level folder named \"App\". Put your data files under that folder. "
      ]
    },
    {
      "metadata": {
        "id": "a4ZyqtEbMjbB",
        "colab_type": "text"
      },
      "cell_type": "markdown",
      "source": [
        "\n",
        "If you want to display math equations in your notes\n",
        "$$ a^2 + b^2 = c^2 $$"
      ]
    },
    {
      "metadata": {
        "id": "8if0BHeFI1Rx",
        "colab_type": "code",
        "colab": {
          "base_uri": "https://localhost:8080/",
          "height": 212
        },
        "outputId": "52fce290-9bea-49fc-9f80-974f811aa5f4"
      },
      "cell_type": "code",
      "source": [
        "from google.colab import drive\n",
        "drive.mount('/content/gdrive')\n",
        "\n",
        "%matplotlib inline\n",
        "import matplotlib.pyplot as plt\n",
        "plt.style.use('seaborn-whitegrid')\n",
        "\n",
        "import numpy as np\n",
        "import pandas as pd\n",
        "\n",
        "data_file = 'training.tsv'\n",
        "\n",
        "data = pd.read_csv('/content/gdrive/My Drive/App/' + data_file, sep=\"\\t\")\n",
        "\n",
        "# data.head()"
      ],
      "execution_count": 31,
      "outputs": [
        {
          "output_type": "stream",
          "text": [
            "Mounted at /content/gdrive\n"
          ],
          "name": "stdout"
        },
        {
          "output_type": "execute_result",
          "data": {
            "text/html": [
              "<div>\n",
              "<style scoped>\n",
              "    .dataframe tbody tr th:only-of-type {\n",
              "        vertical-align: middle;\n",
              "    }\n",
              "\n",
              "    .dataframe tbody tr th {\n",
              "        vertical-align: top;\n",
              "    }\n",
              "\n",
              "    .dataframe thead th {\n",
              "        text-align: right;\n",
              "    }\n",
              "</style>\n",
              "<table border=\"1\" class=\"dataframe\">\n",
              "  <thead>\n",
              "    <tr style=\"text-align: right;\">\n",
              "      <th></th>\n",
              "      <th>00002acbe042d69</th>\n",
              "      <th>2013-07-11</th>\n",
              "      <th>EmailOpen</th>\n",
              "    </tr>\n",
              "  </thead>\n",
              "  <tbody>\n",
              "    <tr>\n",
              "      <th>0</th>\n",
              "      <td>00002acbe042d69</td>\n",
              "      <td>2013-07-11</td>\n",
              "      <td>FormSubmit</td>\n",
              "    </tr>\n",
              "    <tr>\n",
              "      <th>1</th>\n",
              "      <td>00002acbe042d69</td>\n",
              "      <td>2013-07-15</td>\n",
              "      <td>EmailOpen</td>\n",
              "    </tr>\n",
              "    <tr>\n",
              "      <th>2</th>\n",
              "      <td>00002acbe042d69</td>\n",
              "      <td>2013-07-17</td>\n",
              "      <td>EmailOpen</td>\n",
              "    </tr>\n",
              "    <tr>\n",
              "      <th>3</th>\n",
              "      <td>00002acbe042d69</td>\n",
              "      <td>2013-07-18</td>\n",
              "      <td>EmailOpen</td>\n",
              "    </tr>\n",
              "    <tr>\n",
              "      <th>4</th>\n",
              "      <td>00002acbe042d69</td>\n",
              "      <td>2013-07-25</td>\n",
              "      <td>EmailOpen</td>\n",
              "    </tr>\n",
              "  </tbody>\n",
              "</table>\n",
              "</div>"
            ],
            "text/plain": [
              "   00002acbe042d69  2013-07-11   EmailOpen\n",
              "0  00002acbe042d69  2013-07-11  FormSubmit\n",
              "1  00002acbe042d69  2013-07-15   EmailOpen\n",
              "2  00002acbe042d69  2013-07-17   EmailOpen\n",
              "3  00002acbe042d69  2013-07-18   EmailOpen\n",
              "4  00002acbe042d69  2013-07-25   EmailOpen"
            ]
          },
          "metadata": {
            "tags": []
          },
          "execution_count": 31
        }
      ]
    },
    {
      "metadata": {
        "id": "ZsJlxP32Jun_",
        "colab_type": "text"
      },
      "cell_type": "markdown",
      "source": [
        ""
      ]
    }
  ]
}